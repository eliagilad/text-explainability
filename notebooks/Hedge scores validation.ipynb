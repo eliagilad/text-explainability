{
 "cells": [
  {
   "cell_type": "code",
   "execution_count": 2,
   "id": "1972011b-60d7-48ca-b917-435a1f12ac6a",
   "metadata": {},
   "outputs": [],
   "source": [
    "import json"
   ]
  },
  {
   "cell_type": "code",
   "execution_count": 3,
   "id": "bff33b56-a8f7-4aee-add5-4d355e26a819",
   "metadata": {},
   "outputs": [],
   "source": [
    "with open(\"../external_repos/HEDGE/bert/hedge_output_1.json\", \"r\") as f:\n",
    "    explanation = json.load(f)"
   ]
  },
  {
   "cell_type": "code",
   "execution_count": 4,
   "id": "d12897ec-8e12-48f4-b63c-5f7e4cb759c5",
   "metadata": {},
   "outputs": [
    {
     "data": {
      "text/plain": [
       "{'text_tokens': ['primary',\n",
       "  'plot',\n",
       "  '!',\n",
       "  'primary',\n",
       "  'direction',\n",
       "  '!',\n",
       "  'poor',\n",
       "  'interpretation',\n",
       "  '.'],\n",
       " 'true_label': 0,\n",
       " 'predicted_label': 0,\n",
       " 'spans': [{'token_indices': [5, 6, 7, 8],\n",
       "   'tokens': ['!', 'poor', 'interpretation', '.'],\n",
       "   'score': 0.9998},\n",
       "  {'token_indices': [6, 7, 8],\n",
       "   'tokens': ['poor', 'interpretation', '.'],\n",
       "   'score': 0.9996},\n",
       "  {'token_indices': [6, 7],\n",
       "   'tokens': ['poor', 'interpretation'],\n",
       "   'score': 0.9994},\n",
       "  {'token_indices': [6], 'tokens': ['poor'], 'score': 0.9992},\n",
       "  {'token_indices': [0, 1, 2, 3, 4],\n",
       "   'tokens': ['primary', 'plot', '!', 'primary', 'direction'],\n",
       "   'score': 0.972},\n",
       "  {'token_indices': [0, 1], 'tokens': ['primary', 'plot'], 'score': 0.6437},\n",
       "  {'token_indices': [1], 'tokens': ['plot'], 'score': 0.6131},\n",
       "  {'token_indices': [0, 1, 2, 3],\n",
       "   'tokens': ['primary', 'plot', '!', 'primary'],\n",
       "   'score': 0.561},\n",
       "  {'token_indices': [4], 'tokens': ['direction'], 'score': 0.1742},\n",
       "  {'token_indices': [2], 'tokens': ['!'], 'score': -0.5786},\n",
       "  {'token_indices': [5], 'tokens': ['!'], 'score': -0.6041},\n",
       "  {'token_indices': [2, 3], 'tokens': ['!', 'primary'], 'score': -0.6222},\n",
       "  {'token_indices': [8], 'tokens': ['.'], 'score': -0.7912},\n",
       "  {'token_indices': [0], 'tokens': ['primary'], 'score': -0.8332},\n",
       "  {'token_indices': [3], 'tokens': ['primary'], 'score': -0.8469},\n",
       "  {'token_indices': [7], 'tokens': ['interpretation'], 'score': -0.8943}],\n",
       " 'tree': {'0': [[[0, 1, 2, 3, 4, 5, 6, 7, 8], 0.9997731447219849]],\n",
       "  '1': [[[0, 1, 2, 3, 4], 0.9720462560653687],\n",
       "   [[5, 6, 7, 8], 0.9997625350952148]],\n",
       "  '2': [[[0, 1, 2, 3], 0.5610120296478271],\n",
       "   [[4], 0.1741948127746582],\n",
       "   [[5, 6, 7, 8], 0.9997625350952148]],\n",
       "  '3': [[[0, 1], 0.6437309980392456],\n",
       "   [[2, 3], -0.6222456693649292],\n",
       "   [[4], 0.1741948127746582],\n",
       "   [[5, 6, 7, 8], 0.9997625350952148]],\n",
       "  '4': [[[0, 1], 0.6437309980392456],\n",
       "   [[2, 3], -0.6222456693649292],\n",
       "   [[4], 0.1741948127746582],\n",
       "   [[5], -0.6040773093700409],\n",
       "   [[6, 7, 8], 0.9995987415313721]],\n",
       "  '5': [[[0, 1], 0.6437309980392456],\n",
       "   [[2], -0.578580230474472],\n",
       "   [[3], -0.8469426035881042],\n",
       "   [[4], 0.1741948127746582],\n",
       "   [[5], -0.6040773093700409],\n",
       "   [[6, 7, 8], 0.9995987415313721]],\n",
       "  '6': [[[0, 1], 0.6437309980392456],\n",
       "   [[2], -0.578580230474472],\n",
       "   [[3], -0.8469426035881042],\n",
       "   [[4], 0.1741948127746582],\n",
       "   [[5], -0.6040773093700409],\n",
       "   [[6, 7], 0.9994314908981323],\n",
       "   [[8], -0.7911964952945709]],\n",
       "  '7': [[[0], -0.8331950008869171],\n",
       "   [[1], 0.6131377220153809],\n",
       "   [[2], -0.578580230474472],\n",
       "   [[3], -0.8469426035881042],\n",
       "   [[4], 0.1741948127746582],\n",
       "   [[5], -0.6040773093700409],\n",
       "   [[6, 7], 0.9994314908981323],\n",
       "   [[8], -0.7911964952945709]],\n",
       "  '8': [[[0], -0.8331950008869171],\n",
       "   [[1], 0.6131377220153809],\n",
       "   [[2], -0.578580230474472],\n",
       "   [[3], -0.8469426035881042],\n",
       "   [[4], 0.1741948127746582],\n",
       "   [[5], -0.6040773093700409],\n",
       "   [[6], 0.9992326498031616],\n",
       "   [[7], -0.8943086564540863],\n",
       "   [[8], -0.7911964952945709]]}}"
      ]
     },
     "execution_count": 4,
     "metadata": {},
     "output_type": "execute_result"
    }
   ],
   "source": [
    "explanation"
   ]
  },
  {
   "cell_type": "code",
   "execution_count": 5,
   "id": "c059cc50-b628-49a1-86bf-0736a3aaa7ce",
   "metadata": {},
   "outputs": [
    {
     "data": {
      "text/plain": [
       "dict_keys(['text_tokens', 'true_label', 'predicted_label', 'spans', 'tree'])"
      ]
     },
     "execution_count": 5,
     "metadata": {},
     "output_type": "execute_result"
    }
   ],
   "source": [
    "explanation.keys()"
   ]
  },
  {
   "cell_type": "code",
   "execution_count": 6,
   "id": "39b3c1d4-e9ef-48c4-a3a6-5141f8339013",
   "metadata": {},
   "outputs": [
    {
     "data": {
      "text/plain": [
       "[-0.8332, 0.6131, -0.5786, -0.8469, 0.1742, -0.6041, 0.9992, -0.8943, -0.7912]"
      ]
     },
     "execution_count": 6,
     "metadata": {},
     "output_type": "execute_result"
    }
   ],
   "source": [
    "token_level_scores = [0] * len(explanation['text_tokens'])\n",
    "\n",
    "for span in explanation[\"spans\"]:\n",
    "    indices = span[\"token_indices\"]\n",
    "    if isinstance(indices, list) and len(indices) == 1:\n",
    "        token_level_scores[indices[0]] = span[\"score\"]\n",
    "\n",
    "token_level_scores"
   ]
  },
  {
   "cell_type": "code",
   "execution_count": 7,
   "id": "60f64889-2991-4054-b937-55ece832b80e",
   "metadata": {},
   "outputs": [
    {
     "name": "stdout",
     "output_type": "stream",
     "text": [
      " 0  primary          score: -0.8332\n",
      " 1  plot             score: 0.6131\n",
      " 2  !                score: -0.5786\n",
      " 3  primary          score: -0.8469\n",
      " 4  direction        score: 0.1742\n",
      " 5  !                score: -0.6041\n",
      " 6  poor             score: 0.9992\n",
      " 7  interpretation   score: -0.8943\n",
      " 8  .                score: -0.7912\n"
     ]
    }
   ],
   "source": [
    "for idx, token in enumerate(explanation[\"text_tokens\"]):\n",
    "    score = token_level_scores[idx]\n",
    "    if score is not None:\n",
    "        print(f\"{idx:2d}  {token:15s}  score: {score:.4f}\")\n",
    "    else:\n",
    "        print(f\"{idx:2d}  {token:15s}  score: (not evaluated solo)\")"
   ]
  },
  {
   "cell_type": "code",
   "execution_count": 8,
   "id": "4ced1470-5b07-4fd6-87cd-2932e9a9bff7",
   "metadata": {},
   "outputs": [
    {
     "data": {
      "text/plain": [
       "-2.7618"
      ]
     },
     "execution_count": 8,
     "metadata": {},
     "output_type": "execute_result"
    }
   ],
   "source": [
    "import numpy as np\n",
    "\n",
    "np.array(token_level_scores).sum()"
   ]
  },
  {
   "cell_type": "markdown",
   "id": "02f84868-abb0-4a5d-b362-6b568be0d711",
   "metadata": {},
   "source": [
    "Add manual explanation annotation for evaluation validation"
   ]
  },
  {
   "cell_type": "code",
   "execution_count": 9,
   "id": "a5c9e0c3-b78a-4f20-90c4-775c776f51f1",
   "metadata": {},
   "outputs": [],
   "source": [
    "evidence = [False, False, False, False, False, False, True, True, False]"
   ]
  },
  {
   "cell_type": "code",
   "execution_count": null,
   "id": "df6bd537-7842-49b0-a4c1-33cdcd562884",
   "metadata": {},
   "outputs": [],
   "source": []
  }
 ],
 "metadata": {
  "kernelspec": {
   "display_name": "Python 3 (ipykernel)",
   "language": "python",
   "name": "python3"
  },
  "language_info": {
   "codemirror_mode": {
    "name": "ipython",
    "version": 3
   },
   "file_extension": ".py",
   "mimetype": "text/x-python",
   "name": "python",
   "nbconvert_exporter": "python",
   "pygments_lexer": "ipython3",
   "version": "3.11.9"
  }
 },
 "nbformat": 4,
 "nbformat_minor": 5
}
